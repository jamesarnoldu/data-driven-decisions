{
 "cells": [
  {
   "cell_type": "markdown",
   "id": "68b84017-aae5-4a84-9a52-ec0668234d25",
   "metadata": {},
   "source": [
    "# Wind Turbine Uncertainty in loading analysis\n",
    "\n",
    "## James Arnold\n",
    "\n",
    "\n",
    "## Abstract\n",
    "\n",
    "The design and analysis of wind turbines involves significant\n",
    "uncertainties in materials, loads, and structural performance. These\n",
    "uncertainties can affect the reliability and efficiency of wind\n",
    "turbines, requiring methods to address this uncertainty. Monte Carlo\n",
    "simulation is a statistical tool used to address these uncertainties.\n",
    "This report explores the application of Monte Carlo simulation to assess\n",
    "the uncertainties in materials, loads, and structural performance of\n",
    "wind turbines. This report will feature a study examining the difference\n",
    "in the stress distribution and power output of a wind turbine blade at a\n",
    "length of 40 meters and 50 meters. The study demonstrates how Monte\n",
    "Carlo methods can enhance the understanding and management of these\n",
    "uncertainties, ultimately contributing to more reliable and efficient\n",
    "wind turbine designs."
   ]
  },
  {
   "cell_type": "code",
   "execution_count": 1,
   "id": "c52dc91b-8fe1-4db1-a47b-89971f4f1513",
   "metadata": {
    "ExecuteTime": {
     "end_time": "2024-11-12T03:00:27.382739Z",
     "start_time": "2024-11-12T03:00:26.632967Z"
    }
   },
   "outputs": [],
   "source": [
    "import numpy as np \n",
    "import scipy.stats as stats \n",
    "import matplotlib.pyplot as plt "
   ]
  },
  {
   "cell_type": "markdown",
   "id": "036420fe-3c93-4733-9737-1bc6bc8e8210",
   "metadata": {},
   "source": [
    "## I.  Introduction\n",
    "\n",
    "Wind turbines use blades to collect the wind's kinetic energy. Wind\n",
    "flows over the blades creating lift which causes the blades to turn. The\n",
    "blades are connected to a drive shaft that turns an electric generator,\n",
    "which produces electricity. Wind electricity generation has grown\n",
    "significantly in the past 30 years. The three major components of a wind\n",
    "turbine are a rotor, nacelle, and tower. The rotor consists of a hub and\n",
    "three blades [1]. The hub is the link between the blades and shaft.\n",
    "The blades obtain kinetic energy from the wind. This is converted to\n",
    "torque and transferred to the gearbox through the shaft [1]. To\n",
    "maximize energy capture, the turbine rotates on its vertical axis to\n",
    "position the rotor in the direction of the wind using a yawning\n",
    "mechanism. The major components in the nacelle include the gearbox and\n",
    "generator [1]. The rotor and gearbox are connected using a low-speed\n",
    "shaft. The gearbox and generator are connected using a high-speed shaft.\n",
    "The rotation of the blades converts a low-speed, high-torque to a\n",
    "high-speed, low-torque rotational force transferred to the generator\n",
    "using the gearbox. The tower is connected to the ground and the rotor\n",
    "and nacelle are connected to the top of the tower [1]. The tower is\n",
    "typically 262-360 feet [1]. The types of uncertainty in wind turbine\n",
    "design include aleatoric and epistemic uncertainty. Aleatoric\n",
    "uncertainty if fixed and includes uncertainty in due to turbulence and\n",
    "material yield/fatigue stress [7]. This also includes uncertainty in\n",
    "the environment and loads the structure experiences [6]. These\n",
    "uncertainties require probabilistic mathematical methods to understand\n",
    "the uncertainty involved [6]. Epistemic uncertainty is reducible and\n",
    "includes uncertainty in site condition parameters and aerodynamic models\n",
    "[7]. Wind turbines utilize many different materials. Steel is often\n",
    "used in the tower and nacelle as it has a high tensile strength and\n",
    "durability. Fiberglass and carbon fiber composites are often used for\n",
    "blades as they have a high strength-to-weight ratio [3]. Aluminum is\n",
    "often used for some components because of its lightweight properties and\n",
    "corrosion resistance. The materials go through different manufacturing\n",
    "processes which leads to differences in material properties.\n",
    "Environmental exposure such as UV radiation, moisture, temperature\n",
    "fluctuations and salt sprayed in offshore turbines affect the material\n",
    "strength over time [3]. Additionally, fatigue cycles are impacted by\n",
    "load cycles, geometry, and operational conditions [4]. Stress\n",
    "concentration and magnitude of load cycles greatly impact the fatigue\n",
    "cycles of the materials in wind turbines [4]. Weibull distribution is\n",
    "often used to accurately estimate energy production and wind speed.\n",
    "Weibull distribution is commonly used as it predicts wind conditions and\n",
    "inverse of wind direction [5]. Weibull distribution uses wind speed\n",
    "and shape parameters to create a probability function. Modelling Weibull\n",
    "distribution can help accurately estimate uncertainty. Weibull\n",
    "distribution is effective for calculating probability of failure. Monte\n",
    "Carlo simulations are often used to address uncertainty in wind turbine\n",
    "design [5]. Monte Carlo is the most simple sampling technique. Monte\n",
    "Carlo methods use random sampling to create a probability distribution.\n",
    "Monte Carlo simulations are often used to obtain wind turbine output\n",
    "power at each hour [5]. Using Monte Carlo methods, the input variables\n",
    "are modelled with associated uncertainty and address the cumulative\n",
    "impact on the variables outputted [5]. Monte Carlo simulations are\n",
    "simple and easier to develop but often other methods produce more\n",
    "accurate results."
   ]
  },
  {
   "cell_type": "markdown",
   "id": "86149cb5-8868-4ff8-a809-ef5ffdb249e2",
   "metadata": {},
   "source": [
    "## II. Sources of Uncertainty in Wind Turbine Design\n",
    "\n",
    "Wind turbine design has a significant amount of uncertainty associated\n",
    "with it. Wind turbines utilize many different materials. Steel is often\n",
    "used in the tower and nacelle as it has a high tensile strength and\n",
    "durability. Steel is used for structural loads as it is a high-strength\n",
    "material especially in tension. Steel is durable and versatile however,\n",
    "it has poor corrosion resistance which can cause uncertainty and\n",
    "decrease reliability. Additionally, steel has strong thermal\n",
    "conductivity which can complicate heating, cooling and insulation of\n",
    "structures made of steel. Steel has good fatigue strength, so it can\n",
    "withstand a higher magnitude of stress than alternate materials\n",
    "considered for use. Fiberglass and carbon fiber composites are often\n",
    "used for blades as they have a high strength-to-weight ratio. Fiberglass\n",
    "is lightweight yet is often stronger than other metals such as steel.\n",
    "Fiberglass is non-conductive and durable making it sustainable.\n",
    "Fiberglass can degrade over time when it is exposed to prolonged\n",
    "sunlight or other weather conditions. This adds uncertainty to the\n",
    "system as fiberglass might not be able to be used for long term use such\n",
    "as wind turbine design. Lifetime constraints must be considered for\n",
    "uncertainty in wind turbine design. Aluminum is often used for some\n",
    "components because of its lightweight properties and corrosion\n",
    "resistance. Aluminum has a low density and has excellent thermal\n",
    "conductivity which makes it a desirable material for design. Aluminum is\n",
    "also an excellent reflector of radiant energy, has a high electrical\n",
    "conductivity and is resistant to corrosion. Aluminum has a low tensile\n",
    "strength compared to other metals. This adds uncertainty as aluminum has\n",
    "constraints for the amount of loading that it can handle. The materials\n",
    "considered during the design process go through different manufacturing\n",
    "processes. As a result, each material has different tolerancing\n",
    "restrictions and uncertainty is added through each tolerance and\n",
    "constraint involved. Environmental exposure such as UV radiation,\n",
    "moisture, temperature fluctuations and salt sprayed in offshore turbines\n",
    "affect the material strength over time. Fatigue cycles are impacted by\n",
    "load cycles, geometry, and operational conditions. Stress concentration\n",
    "and magnitude of load cycles greatly impact the fatigue cycles of the\n",
    "materials in wind turbines.\n",
    "\n",
    "Various loads are applied onto different components of wind turbines.\n",
    "Wind turbine blades experience aerodynamic, gravitational and inertial\n",
    "loads [2]. Aerodynamic loads are due to wind pushing up against the\n",
    "blades. This load is proportional to the wind speed and the area of the\n",
    "blade. Gravitational loads are due to the weight of the blade [2].\n",
    "Inertial load is due to rotational motion of the blades, particularly\n",
    "during changes in rotational speed or direction. Each load adds\n",
    "uncertainty to the system [2]. Wind turbines experience heavy loads\n",
    "which adds a significant degree of uncertainty to wind turbines.\n",
    "Geometry of wind turbine is an important consideration. Power production\n",
    "of a wind turbine blade increases as the area of the blade increases.\n",
    "Increasing blade area increases uncertainty. Understanding uncertainty\n",
    "in the geometry of a turbine blade produces a more efficient blade\n",
    "design. Several methods are available for use to address the uncertainty\n",
    "involved in wind turbine design."
   ]
  },
  {
   "cell_type": "markdown",
   "id": "33670f8d-cf8c-4983-b09c-7fce6e6c57bd",
   "metadata": {},
   "source": [
    "## III. Methods to Address Uncertainty\n",
    "\n",
    "Monte Carlo simulations are often used to address uncertainty in wind\n",
    "turbine design. Monte Carlo is the most simple sampling technique. Monte\n",
    "Carlo methods use random sampling to create a probability distribution.\n",
    "Monte Carlo simulations are often used to obtain wind turbine output\n",
    "power at each hour. Using Monte Carlo methods, the input variables are\n",
    "modelled with associated uncertainty and address the cumulative impact\n",
    "on the variables outputted. Monte Carlo simulations are simple and\n",
    "easier to develop but often other methods produce more accurate results.\n",
    "Weibull distribution is often used to accurately estimate power\n",
    "production and wind speed. Weibull distribution is commonly used as it\n",
    "predicts wind conditions and inverse of wind direction. Weibull\n",
    "distribution uses wind speed and shape parameters to create a\n",
    "probability function. Modelling Weibull distribution can help accurately\n",
    "estimate uncertainty."
   ]
  },
  {
   "cell_type": "markdown",
   "id": "f1e9635c-9644-4d73-b13e-64f866c18bee",
   "metadata": {},
   "source": [
    "This study focuses on the difference in stress and power production\n",
    "between wind turbine blades with a length of 40 meters and 50 meters.\n",
    "This study is an example of using Monte Carlo methods to simulate\n",
    "uncertainty of materials, loads and structures in wind turbine design is\n",
    "shown below. Pseudo-random number generators are used in the simulation\n",
    "to create random samples for each uncertain parameter according to their\n",
    "probability distributions. The simulation is run to form a distribution\n",
    "of the outcome. The blade is assumed to be made out of fiberglass. The\n",
    "fiberglass is assumed to have a Young's Modulus of 70 GPa with a\n",
    "standard deviation of 5 GPa. "
   ]
  },
  {
   "cell_type": "markdown",
   "id": "02fabe35-4e25-4ced-8e6f-e31ca1923492",
   "metadata": {},
   "source": [
    "The wind speed is assumed to follow a\n",
    "Weibull distribution with a shape parameter of k = 9 and a scale\n",
    "parameter of 3. The resulting distribution is shown below in the \"Weibull distribution of wind speeds\". The average wind speed is 2.8 m/s with a standard deviation of 0.4 m/s."
   ]
  },
  {
   "cell_type": "code",
   "execution_count": 2,
   "id": "7bb509de-0b0c-48db-9af4-dfeb7ae685aa",
   "metadata": {
    "ExecuteTime": {
     "end_time": "2024-11-12T03:00:27.596866Z",
     "start_time": "2024-11-12T03:00:27.385079Z"
    }
   },
   "outputs": [
    {
     "name": "stdout",
     "output_type": "stream",
     "text": [
      "2.841516783394367 0.38115758715913567\n"
     ]
    },
    {
     "data": {
      "image/png": "[encoded data removed]",
      "text/plain": [
       "<Figure size 432x288 with 1 Axes>"
      ]
     },
     "metadata": {
      "needs_background": "light"
     },
     "output_type": "display_data"
    }
   ],
   "source": [
    "\n",
    "num_simulations = 10000 \n",
    "# Material properties (Young's modulus in GPa) \n",
    "E_mean = 70\n",
    "E_std = 5\n",
    "E_samples = np.random.normal(E_mean, E_std, num_simulations) \n",
    "# Wind speed (m/s) \n",
    "k = 9 \n",
    "lam = 3 \n",
    "wind_speed_samples = np.random.weibull(k, num_simulations) * lam \n",
    "\n",
    "plt.hist(wind_speed_samples, 50)\n",
    "plt.title('Weibull distribution of wind speeds')\n",
    "plt.xlabel('wind speed in (m/s)')\n",
    "plt.ylabel('frequency')\n",
    "print(wind_speed_samples.mean(), wind_speed_samples.std())"
   ]
  },
  {
   "cell_type": "markdown",
   "id": "8d83d13e-06df-413c-a3de-691e3ffa1290",
   "metadata": {},
   "source": [
    "The length of the blade is assumed to be 40 m with a\n",
    "standard deviation of 0.1 m in the first simulation. The second\n",
    "simulation assumes the length of the blade to be 50 meters with a\n",
    "standard deviation of 0.1 m. The formula for the stress of the blade is:\n",
    "\n",
    "$\\sigma_{b,~max} = \\frac{Mc}{I_c} = \\frac{F_D L^2}{2}\\frac{c}{I_c}$ (1)\n",
    "\n",
    "[beam analysis](https://mechanicalc.com/reference/beam-analysis)\n",
    "\n",
    "where v is the wind speed velocity, E is the Young's modulus value, and\n",
    "L is the length of the blade.\n",
    "\n",
    "The formula for the blade width is [8]:\n",
    "\n",
    "$w = \\frac{5.6 * L_m^2}{j * Cl * r * TSR^2}$ (2)\n",
    "\n",
    "where ${L_m}$ is the length of the blade, j is the number of blades, CL is the coefficient of lift, r is the radius at point of computation, and TSR is the tip speed ratio.\n",
    "\n",
    "The formula for the blade thickness is [9]:\n",
    "\n",
    "$t = \\sqrt{ \\frac{1.4 * 3.14 * (L_m)^4 * (L_m-45)^4}{I_c}}$ (3)\n",
    "\n",
    "\n",
    "The formula for the power output of the wind turbine blade is:\n",
    "\n",
    "$P = 0.5 \\rho A_{turbine} v^{3} c_{p}$ (4)\n",
    "\n",
    "where P is the power output, ρ is the air density which is 1.225\n",
    "kg/m^3^, $A_{turbine}$ is the turbine blade swept area, and $c_p$ is the\n",
    "power coefficient. The power coefficient is 0.4 for this simulation. The\n",
    "code and results of the simulation is provided below:"
   ]
  },
  {
   "cell_type": "code",
   "execution_count": 3,
   "id": "c5505100-8243-4786-b734-ba76694171a7",
   "metadata": {
    "ExecuteTime": {
     "end_time": "2024-11-12T03:00:28.342986Z",
     "start_time": "2024-11-12T03:00:27.598775Z"
    }
   },
   "outputs": [
    {
     "name": "stdout",
     "output_type": "stream",
     "text": [
      "Mean Stress at 40 meters: 0.07828 Pa\n",
      "Standard Deviation of Stress at 40 meters: 0.01997 Pa\n",
      "Power at 40 meters: 3497.68498 W\n",
      "Mean Stress at 50 meters: 0.12231 Pa\n",
      "Standard Deviation of Stress at 50 meters: 0.03120 Pa\n",
      "Power at 50 meters: 5464.73361 W\n"
     ]
    },
    {
     "data": {
      "image/png": "[encoded data removed]",
      "text/plain": [
       "<Figure size 432x288 with 1 Axes>"
      ]
     },
     "metadata": {
      "needs_background": "light"
     },
     "output_type": "display_data"
    },
    {
     "data": {
      "image/png": "[encoded data removed]",
      "text/plain": [
       "<Figure size 432x288 with 1 Axes>"
      ]
     },
     "metadata": {
      "needs_background": "light"
     },
     "output_type": "display_data"
    },
    {
     "data": {
      "image/png": "[encoded data removed]",
      "text/plain": [
       "<Figure size 432x288 with 1 Axes>"
      ]
     },
     "metadata": {
      "needs_background": "light"
     },
     "output_type": "display_data"
    }
   ],
   "source": [
    "# Blade length (m) \n",
    "for L_mean in [40, 50]: \n",
    "    j = 3\n",
    "    Cl = 0.5\n",
    "    r = L_mean/2\n",
    "    TSR = 7\n",
    "    w = 5.6 * L_mean**2 / (j * Cl * r * (TSR)**2) # width of blade\n",
    "    I = 0.021\n",
    "    t = np.sqrt((1.4 * 3.14 * (L_mean)**4 * (L_mean-45)**4) / I)\n",
    "    I = 0.021\n",
    "    Cd = 0.5 # drag coefficient\n",
    "    rho = 1 # kg/m^3 density of air\n",
    "    L_std = 0.1 \n",
    "    L_samples = np.random.normal(L_mean, L_std, num_simulations) \n",
    "    # Placeholder for results \n",
    "    stress_samples = [] \n",
    "    Power_samples = [] \n",
    "    # Perform simulations \n",
    "    for i in range(num_simulations): \n",
    "        E = E_samples[i] \n",
    "        V = wind_speed_samples[i] \n",
    "        L = L_samples[i] \n",
    "        # Simplified stress calculation (example) \n",
    "        # Stress = function(E, V, L) \n",
    "        stress = (0.5 *Cd*rho* V**2)*L**2/2/I * 0.000001# Simplified example \n",
    "        stress_samples.append(stress)\n",
    "        # Power Output in MW \n",
    "            \n",
    "        # Air Density in kg/m^3 \n",
    "        den = 1.225 \n",
    "        # Area of the Turbine Swept \n",
    "        A = 3.14 * L**2 \n",
    "        Power = 0.5 * den * A * V * 0.4 \n",
    "        Power_samples.append(Power) \n",
    "    # Convert results to a NumPy array \n",
    "    stress_samples = np.array(stress_samples) \n",
    "    # Convert results to a NumPy array \n",
    "    Power_samples = np.array(Power_samples) \n",
    "\n",
    "    \n",
    "    \n",
    "    # Analyze results \n",
    "    mean_stress = np.mean(stress_samples) \n",
    "    std_stress = np.std(stress_samples) \n",
    "    Power_result = np.mean(Power_samples) \n",
    "    # Print results \n",
    "    print(f\"Mean Stress at {L_mean} meters: {mean_stress:.5f} Pa\") \n",
    "    print(f\"Standard Deviation of Stress at {L_mean} meters: {std_stress:.5f} Pa\") \n",
    "    print(f\"Power at {L_mean} meters: {Power_result:.5f} W\") \n",
    "    \n",
    "    # Plot results\n",
    "    plt.figure(1)\n",
    "    plt.hist(stress_samples/1e6, \n",
    "             bins=50, \n",
    "             density=True, \n",
    "             alpha=0.6,\n",
    "            label = 'length = {:0.0f} m'.format(L))#, color='g') \n",
    "    plt.title('Histogram of Stress Distribution') \n",
    "    plt.xlabel('Stress (MPa)') \n",
    "    plt.ylabel('Frequency')\n",
    "    plt.legend();\n",
    "    \n",
    "    plt.figure(2)\n",
    "    plt.hist(Power_samples, \n",
    "             bins=50, \n",
    "             density=True, \n",
    "             alpha=0.6,\n",
    "            label = 'length = {:0.0f} m'.format(L))#, color='g') \n",
    "    plt.title('Histogram of Power outputs for wind speeds') \n",
    "    plt.xlabel('Power (MW)') \n",
    "    plt.ylabel('Frequency')\n",
    "    plt.legend();\n",
    "    plt.figure(3)\n",
    "    plt.plot(stress_samples/1e6, Power_samples, 's', \n",
    "             label = 'length = {:0.0f} m'.format(L))\n",
    "    plt.title('relation between power and max stress')\n",
    "    plt.ylabel('Power (MW)') \n",
    "    plt.xlabel('Stress (MPa)')\n",
    "    plt.legend();"
   ]
  },
  {
   "cell_type": "markdown",
   "id": "2eb44e1f-0ad3-4903-8ef3-0f339f404138",
   "metadata": {},
   "source": [
    "*Figure 1: Stress results for turbine blades of 40-m and 50-m and below are the power outputs comparing the 40-m and 50-m turbine blades.*"
   ]
  },
  {
   "cell_type": "markdown",
   "id": "e388705b-df7f-4d1d-9d6c-77377a1df648",
   "metadata": {},
   "source": [
    "*Figure 2: The Mean Stress, Standard Deviation of Stress, and Histogram\n",
    "of the Stress Distribution of the Monte Carlo Simulation and the Power\n",
    "Developed By the Turbine Blade of the Wind Turbine With a Length of 40\n",
    "and 50 Meters*"
   ]
  },
  {
   "cell_type": "markdown",
   "id": "f6b2dabd-0658-41fb-b3af-ed499049b033",
   "metadata": {},
   "source": [
    "*Figure 3: There is a correlation between max stress and power output due to the combined loading of lift and drag on the wind turbine blades. The 50-m blades have higher power and higher stress as wind speeds increase.*"
   ]
  },
  {
   "cell_type": "markdown",
   "id": "6ad0fd6e-78db-4756-b80c-04ff39cf26e4",
   "metadata": {},
   "source": [
    "This figure shows that mean stress on the wind turbine blade is 0.07828\n",
    "Pa while the standard deviation is 0.00038 Pa for a blade with a length\n",
    "of 40 meters. The power developed by the turbine blade is 3497.69 W. The\n",
    "shape of the histogram of the stress distribution of the turbine blade\n",
    "is as expected. The middle of the blade experiences more stress than the\n",
    "edges so the most stress is applied at the halfway point of the length\n",
    "on the blade.\n",
    "\n",
    "This figure shows that mean stress on the wind turbine blade is 0.12231\n",
    "Pa while the standard deviation is 0.031 Pa for a blade with a length\n",
    "of 50 meters. The power developed by the turbine blade is 5464.73 W. The\n",
    "shape of the histogram of the stress distribution of the turbine blade\n",
    "is as expected. The middle of the blade experiences more stress than the\n",
    "edges so the most stress is applied at the halfway point of the length\n",
    "on the blade.\n",
    "\n",
    "The Monte Carlo simulations are often used to address uncertainty in\n",
    "wind turbine design. Monte Carlo is the most simple sampling technique.\n",
    "Monte Carlo methods use random sampling to create a probability\n",
    "distribution. Monte Carlo simulations are often used to obtain wind\n",
    "turbine output power at each hour. Using Monte Carlo methods, the input\n",
    "variables are modelled with associated uncertainty and address the\n",
    "cumulative impact on the variables outputted. Monte Carlo simulations\n",
    "are simple and easier to develop but often other methods produce more\n",
    "accurate results."
   ]
  },
  {
   "cell_type": "markdown",
   "id": "c21d6b2e",
   "metadata": {},
   "source": [
    "\n",
    "## IV. Conclusion\n",
    "\n",
    "This case study focused on the difference in stress and power production\n",
    "between wind turbine blades with a length of 40 meters and 50 meters.\n",
    "This study is an example of using Monte Carlo methods to simulate\n",
    "uncertainty of materials, loads and structures in wind turbine design.\n",
    "Pseudo-random number generators are used in the simulation to create\n",
    "random samples for each uncertain parameter according to their\n",
    "probability distributions. The simulation is run to form a distribution\n",
    "of the outcome. The mean stress on the wind turbine blade with a length\n",
    "of 40 meters is 0.07828 Pa while the standard deviation is 0.01997 Pa.\n",
    "The power developed by the turbine blade is 3497.68 W. The mean stress\n",
    "on the wind turbine blade with a length of 50 meters is 0.12231 Pa while\n",
    "the standard deviation is 0.03120 Pa. The power developed by the turbine\n",
    "blade is 5464.73 W.\n",
    "\n",
    "This study validates the idea that with increasing length on turbine\n",
    "blades the stress decreases. The 50-meter blade endured five-thousands \n",
    "Pa less than the 40-meter blade. Both simulations\n",
    "outputted the same standard deviation of stress. The range of the stress\n",
    "distribution was roughly the same, however the 40-meter blade is subject\n",
    "to more stress. This can reduce the sustainability of the blade. This\n",
    "study proved that stress of a wind turbine blade decreases when the\n",
    "length increases.\n",
    "\n",
    "This study validated that the longer the turbine blade, the more power\n",
    "will be produced. The 50-meter blade produced 1967.05 W more than the\n",
    "40-meter blade. The power production of the second simulation was\n",
    "substantially greater than the first simulation. Power production\n",
    "increased as the area of the turbine swept increased. The area increased\n",
    "significantly in the second simulation due to the blade being 10 meters\n",
    "longer, which increased the power production by the blade. The wind\n",
    "speed remained constant for both experiments, proving that the increased\n",
    "area contributed to the higher power production. This study proved that\n",
    "power production of a wind turbine blade increases when the length\n",
    "increases.\n",
    "\n",
    "Stress distribution and power production are important considerations\n",
    "for wind turbine blades however other considerations are needed.\n",
    "Sourcing a longer blade requires financial considerations as well as\n",
    "efficiency considerations. Longer blades require more material,\n",
    "increasing product cost. Each project has a budget and requiring more\n",
    "material can exceed budget limits. Additionally, longer blades create\n",
    "more concerns and uncertainties. Longer blades increase vibrations and\n",
    "require complex control requirements. Designing longer blades can be\n",
    "impractical as the blades become heavier. Uncertainty increases with\n",
    "longer blades. Wind turbine blades 50 meters long are the perfect\n",
    "length. Stress and power production are optimized, and uncertainty is\n",
    "simpler. Blades 60 meters or longer produce higher uncertainties and are\n",
    "often impractical. Blades 50 meters in length produce high power\n",
    "production while maintaining a low stress distribution. This study\n",
    "proved that a 50-meter turbine blade produces more power and less stress\n",
    "than a 40-meter blade. Understanding uncertainties in wind turbine blade\n",
    "design helps examine how to efficiently design a wind turbine blade.\n",
    "\n",
    "## V.  References\n",
    "\n",
    "\n",
    "1.  \"How a Wind Turbine Works - Text Version \\| Department of Energy.\"\n",
    "    *Wind Energy Technologies Office*, Office of Energy Efficiency &\n",
    "    Renewable Energy,\n",
    "    www.energy.gov/eere/wind/how-wind-turbine-works-text-version.\n",
    "    Accessed 21 June 2024.\n",
    "\n",
    "2.  Madsen, Peter. *Predicting Ultimate Loads for Wind Turbine Design*,\n",
    "    National Renewable Energy Labratory, Nov. 1998,\n",
    "    www.nrel.gov/docs/fy99osti/25787.pdf.\n",
    "\n",
    "3.  Murphy, Patrick, et al. \"How Wind Speed Shear and Directional Veer\n",
    "    Affect the Power Production of a Megawatt-Scale Operational Wind\n",
    "    Turbine.\" *Wind Earth Science*, European Academy of Wind Energy, 11\n",
    "    Sept. 2020, www.nrel.gov/docs/fy20osti/78107.pdf.\n",
    "\n",
    "4.  Nijssen, R.P.L. \"Fatigue Life Prediction and Strength Degradation of\n",
    "    Wind Turbine Rotor Blade Composites.\" *Unlimited Release*, Sandia,\n",
    "    Oct. 2007,\n",
    "    energy.sandia.gov/wp-content/gallery/uploads/SAND-2006-7810p.pdf.\n",
    "\n",
    "5.  Sanderse, Benjamn. *Uncertainty Quantification for Wind Energy\n",
    "    Applications - Literature Review*, Research Gate, Aug. 2017,\n",
    "    www.researchgate.net/publication/319209260_Uncertainty_quantification_for_wind_energy_applications\\_-\\_Literature_review.\n",
    "\n",
    "6.  Stieng, Lars Einar S., and Michael Muskulus. \"Reliability-Based\n",
    "    Design Optimization of Offshore Wind Turbine Support Structures\n",
    "    Using Analytical Sensitivities and Factorized Uncertainty Modeling.\"\n",
    "    *Wind Energy Science*, Copernicus GmbH, 29 Jan. 2020,\n",
    "    wes.copernicus.org/articles/5/171/2020/.\n",
    "\n",
    "7.  Witcher, David. \"Uncertainty Quantification Techniques in Wind\n",
    "    Turbine Design.\" *DNV GL -- RENEWABLES ADVISORY* , DNV-GL,\n",
    "    www.nrel.gov/wind/assets/pdfs/se17-2-uncertainty-in-wind-turbine-design-process.pdf.\n",
    "    Accessed 22 June 2024.\n",
    "    \n",
    "8.  Phelps, Calvin, and John Singleton. “Wind Turbine Blade Design.” Wind Turbine, Cornell University,       confluence.cornell.edu/download/attachments/262012971/blade_design_calvin_john.pdf?version=1&modificationDate=1405976070000&api=v2. Accessed 22 June 2024.  \n",
    "\n",
    "9. Sarkar, Asis, and Dhiren Kumar Behera. “Wind Turbine Blade Efficiency and Power Calculation with Electrical Analogy.” Wind Turbine Blade Efficiency, International Journal of Scientific and Research Publications, Feb. 2012, www.ijsrp.org/research_paper_feb2012/ijsrp-feb-2012-06.pdf. "
   ]
  }
 ],
 "metadata": {
  "kernelspec": {
   "display_name": "Python 3.8",
   "language": "python",
   "name": "python3"
  },
  "language_info": {
   "codemirror_mode": {
    "name": "ipython",
    "version": 3
   },
   "file_extension": ".py",
   "mimetype": "text/x-python",
   "name": "python",
   "nbconvert_exporter": "python",
   "pygments_lexer": "ipython3",
   "version": "3.8.10"
  },
  "toc": {
   "base_numbering": 1,
   "nav_menu": {},
   "number_sections": true,
   "sideBar": true,
   "skip_h1_title": false,
   "title_cell": "Table of Contents",
   "title_sidebar": "Contents",
   "toc_cell": false,
   "toc_position": {},
   "toc_section_display": true,
   "toc_window_display": false
  },
  "varInspector": {
   "cols": {
    "lenName": 16,
    "lenType": 16,
    "lenVar": 40
   },
   "kernels_config": {
    "python": {
     "delete_cmd_postfix": "",
     "delete_cmd_prefix": "del ",
     "library": "var_list.py",
     "varRefreshCmd": "print(var_dic_list())"
    },
    "r": {
     "delete_cmd_postfix": ") ",
     "delete_cmd_prefix": "rm(",
     "library": "var_list.r",
     "varRefreshCmd": "cat(var_dic_list()) "
    }
   },
   "types_to_exclude": [
    "module",
    "function",
    "builtin_function_or_method",
    "instance",
    "_Feature"
   ],
   "window_display": false
  }
 },
 "nbformat": 4,
 "nbformat_minor": 5
}
